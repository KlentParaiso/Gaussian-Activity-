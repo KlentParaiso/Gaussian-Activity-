{
 "cells": [
  {
   "cell_type": "markdown",
   "id": "f29d6009-33dd-4476-ad20-f25901c3175d",
   "metadata": {},
   "source": [
    "# 1. Use Naïve Gauss elimination to solve"
   ]
  },
  {
   "cell_type": "code",
   "execution_count": 1,
   "id": "18682d8b-ff62-41d2-9ddc-8cb1b607d9c1",
   "metadata": {},
   "outputs": [
    {
     "name": "stdout",
     "output_type": "stream",
     "text": [
      "Solution: [  3. -13.   1.]\n"
     ]
    }
   ],
   "source": [
    "import numpy as np\n",
    "\n",
    "def gauss_elimination(A, b):\n",
    "    n = len(b)\n",
    "\n",
    "    # Forward elimination\n",
    "    for i in range(n):\n",
    "        # Partial pivoting (optional for stability)\n",
    "        max_row = np.argmax(abs(A[i:, i])) + i\n",
    "        A[[i, max_row]] = A[[max_row, i]]\n",
    "        b[[i, max_row]] = b[[max_row, i]]\n",
    "        \n",
    "        for j in range(i + 1, n):\n",
    "            factor = A[j][i] / A[i][i]\n",
    "            A[j] = A[j] - factor * A[i]\n",
    "            b[j] = b[j] - factor * b[i]\n",
    "\n",
    "    # Backward substitution\n",
    "    x = np.zeros(n)\n",
    "    for i in range(n-1, -1, -1):\n",
    "        x[i] = (b[i] - np.dot(A[i, i+1:], x[i+1:])) / A[i][i]\n",
    "    return x\n",
    "\n",
    "# Define the coefficients matrix A and RHS vector b\n",
    "A = np.array([[4, 1, -1],\n",
    "              [5, 1,  2],\n",
    "              [6, 1,  1]], dtype=float)\n",
    "b = np.array([-2, 4, 6], dtype=float)\n",
    "\n",
    "# Solve using Gaussian Elimination\n",
    "solution = gauss_elimination(A, b)\n",
    "print(\"Solution:\", solution)\n",
    "\n"
   ]
  },
  {
   "cell_type": "markdown",
   "id": "d87e0987-fc73-4eb0-83cc-32efd9f605bf",
   "metadata": {},
   "source": [
    "#  2. Assume that you are using a computer with four significant digits with chopping. Use Naïve Gauss elimination method to solve\n"
   ]
  },
  {
   "cell_type": "code",
   "execution_count": 6,
   "id": "e481e874-acb4-41b0-a0d6-32eb41cb2fae",
   "metadata": {},
   "outputs": [
    {
     "name": "stdout",
     "output_type": "stream",
     "text": [
      "Solution with 4 significant digits (chopping): [  3. -13.   1.]\n"
     ]
    }
   ],
   "source": [
    "\n",
    "\n",
    "def chop(value, digits=4):\n",
    "    \"\"\"Function to chop a value to a given number of significant digits.\"\"\"\n",
    "    if value == 0:\n",
    "        return 0.0\n",
    "    return float(f\"{value:.{digits}g}\")\n",
    "\n",
    "def gauss_elimination_chopping(A, b, digits=4):\n",
    "    n = len(b)\n",
    "    A = A.astype(float)\n",
    "    b = b.astype(float)\n",
    "\n",
    "    # Forward Elimination\n",
    "    for i in range(n):\n",
    "        for k in range(i + 1, n):\n",
    "            factor = chop(A[k, i] / A[i, i], digits)\n",
    "            A[k] = [chop(A[k, j] - factor * A[i, j], digits) for j in range(n)]\n",
    "            b[k] = chop(b[k] - factor * b[i], digits)\n",
    "\n",
    "    # Backward Substitution\n",
    "    x = np.zeros(n)\n",
    "    for i in range(n-1, -1, -1):\n",
    "        summation = chop(sum(A[i, j] * x[j] for j in range(i + 1, n)), digits)\n",
    "        x[i] = chop((b[i] - summation) / A[i, i], digits)\n",
    "    \n",
    "    return x\n",
    "\n",
    "# Coefficient matrix A and RHS vector b\n",
    "A = np.array([[4, 1, -1],\n",
    "              [5, 1,  2],\n",
    "              [6, 1,  1]], dtype=float)\n",
    "b = np.array([-2, 4, 6], dtype=float)\n",
    "\n",
    "# Solve using Gaussian Elimination with Chopping\n",
    "solution = gauss_elimination_chopping(A, b, digits=4)\n",
    "print(\"Solution with 4 significant digits (chopping):\", solution)\n"
   ]
  },
  {
   "cell_type": "markdown",
   "id": "07648005-6b5e-4afa-8ec7-bfbc2dd7e62b",
   "metadata": {},
   "source": [
    "# 3. Find the determinant of [A] using forward elimination step of naïve Gauss elimination method."
   ]
  },
  {
   "cell_type": "code",
   "execution_count": 12,
   "id": "201fea77-200c-454e-b26b-84afc0d95f26",
   "metadata": {},
   "outputs": [
    {
     "name": "stdout",
     "output_type": "stream",
     "text": [
      "Determinant of matrix [A]: -150.05\n"
     ]
    }
   ],
   "source": [
    "\n",
    "\n",
    "def gauss_determinant(A):\n",
    "    n = len(A)\n",
    "    det = 1.0  # Initialize determinant\n",
    "    A = A.astype(float)  # Ensure floating-point operations\n",
    "\n",
    "    # Forward Elimination to make A upper triangular\n",
    "    for i in range(n):\n",
    "        # Partial Pivoting for stability\n",
    "        max_row = np.argmax(abs(A[i:, i])) + i\n",
    "        if max_row != i:\n",
    "            A[[i, max_row]] = A[[max_row, i]]\n",
    "            det *= -1  # Swapping rows changes the sign of determinant\n",
    "        \n",
    "        # Eliminate entries below pivot\n",
    "        pivot = A[i, i]\n",
    "        if pivot == 0:\n",
    "            return 0  # Determinant is zero if any pivot is zero\n",
    "        \n",
    "        det *= pivot  # Update determinant with the pivot element\n",
    "        for j in range(i+1, n):\n",
    "            factor = A[j, i] / pivot\n",
    "            A[j] = A[j] - factor * A[i]\n",
    "    \n",
    "    return det\n",
    "\n",
    "# Input matrix A\n",
    "A = np.array([[10, -7, 0],\n",
    "              [-3, 2.099, 6],\n",
    "              [5, -1, 5]])\n",
    "\n",
    "# Compute the determinant\n",
    "determinant = gauss_determinant(A)\n",
    "print(\"Determinant of matrix [A]:\", round(determinant, 4))\n"
   ]
  },
  {
   "cell_type": "markdown",
   "id": "9043c88f-9fda-4f09-a1e4-0e0301528fb5",
   "metadata": {},
   "source": [
    "# 4. At the end of forward elimination steps using naïve Gauss elimination method on the coefficient matrix"
   ]
  },
  {
   "cell_type": "code",
   "execution_count": 14,
   "id": "3c6e686a-dcbf-43d2-9ddc-13de7a95a8a8",
   "metadata": {},
   "outputs": [
    {
     "name": "stdout",
     "output_type": "stream",
     "text": [
      "The determinant of matrix A is: -84.0\n"
     ]
    }
   ],
   "source": [
    "B = np.array([\n",
    "    [25, 5, 1],\n",
    "    [0, -4.8, -1.56],\n",
    "    [0, 0, 0.7]\n",
    "])\n",
    "\n",
    "# Determinant of a triangular matrix is the product of its diagonal elements\n",
    "determinant = np.prod(np.diag(B))\n",
    "\n",
    "print(\"The determinant of matrix A is:\", determinant)"
   ]
  },
  {
   "cell_type": "markdown",
   "id": "250261ea-8cea-41f5-ab26-0f0e81f0a12d",
   "metadata": {},
   "source": [
    "# 5. Using Gaussian elimination with partial pivoting to solve"
   ]
  },
  {
   "cell_type": "code",
   "execution_count": 18,
   "id": "bd2afa5c-cdf8-4a4b-b0a2-acf649747dc8",
   "metadata": {},
   "outputs": [
    {
     "name": "stdout",
     "output_type": "stream",
     "text": [
      "Solution (x1, x2, x3): [  3. -13.   1.]\n"
     ]
    }
   ],
   "source": [
    "\n",
    "\n",
    "# Coefficient matrix (A) and RHS vector (b)\n",
    "A = np.array([[4, 1, -1],\n",
    "              [5, 1, 2],\n",
    "              [6, 1, 1]], dtype=float)\n",
    "\n",
    "b = np.array([-2, 4, 6], dtype=float)\n",
    "\n",
    "def gaussian_elimination_pivoting(A, b):\n",
    "    n = len(b)\n",
    "    # Forward Elimination with Partial Pivoting\n",
    "    for k in range(n - 1):\n",
    "        # Partial Pivoting: Find row with maximum value in column k\n",
    "        max_index = np.argmax(abs(A[k:n, k])) + k\n",
    "        if max_index != k:\n",
    "            A[[k, max_index]] = A[[max_index, k]]  # Swap rows in A\n",
    "            b[[k, max_index]] = b[[max_index, k]]  # Swap corresponding rows in b\n",
    "        \n",
    "        # Elimination\n",
    "        for i in range(k + 1, n):\n",
    "            factor = A[i, k] / A[k, k]\n",
    "            A[i, k:] -= factor * A[k, k:]\n",
    "            b[i] -= factor * b[k]\n",
    "    \n",
    "    # Back Substitution\n",
    "    x = np.zeros(n)\n",
    "    for i in range(n - 1, -1, -1):\n",
    "        x[i] = (b[i] - np.dot(A[i, i + 1:], x[i + 1:])) / A[i, i]\n",
    "    return x\n",
    "\n",
    "# Solve the system\n",
    "solution = gaussian_elimination_pivoting(A, b)\n",
    "print(\"Solution (x1, x2, x3):\", solution)\n"
   ]
  },
  {
   "cell_type": "code",
   "execution_count": null,
   "id": "e36283ba-764c-4628-abe4-fb571891bc81",
   "metadata": {},
   "outputs": [],
   "source": []
  }
 ],
 "metadata": {
  "kernelspec": {
   "display_name": "Python 3 (ipykernel)",
   "language": "python",
   "name": "python3"
  },
  "language_info": {
   "codemirror_mode": {
    "name": "ipython",
    "version": 3
   },
   "file_extension": ".py",
   "mimetype": "text/x-python",
   "name": "python",
   "nbconvert_exporter": "python",
   "pygments_lexer": "ipython3",
   "version": "3.12.7"
  }
 },
 "nbformat": 4,
 "nbformat_minor": 5
}
